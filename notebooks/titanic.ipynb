{
 "cells": [
  {
   "cell_type": "code",
   "execution_count": null,
   "id": "62430521-9eb1-4e13-b806-ed0de9c08ca1",
   "metadata": {},
   "outputs": [],
   "source": [
    "import numpy as np\n",
    "import pandas as pd\n",
    "import plotly.express as px\n",
    "import plotly.graph_objects as go\n",
    "from sklearn.model_selection import train_test_split\n",
    "from sklearn import tree"
   ]
  },
  {
   "cell_type": "code",
   "execution_count": null,
   "id": "a1138062-cd58-4aa0-9c06-00a7739d0403",
   "metadata": {},
   "outputs": [],
   "source": [
    "gender = pd.read_csv(\"../data/raw/titanic/gender_submission.csv\")\n",
    "gender.info()\n",
    "gender.head()"
   ]
  },
  {
   "cell_type": "code",
   "execution_count": null,
   "id": "a3ebb3f3-9c6a-4eff-8366-cb44a439ea5b",
   "metadata": {},
   "outputs": [],
   "source": [
    "train = pd.read_csv(\"../data/raw/titanic/train.csv\")\n",
    "train.info()\n",
    "train.head()"
   ]
  },
  {
   "cell_type": "code",
   "execution_count": null,
   "id": "4e19a73f-1b98-4813-8672-a41b7d8ae0f5",
   "metadata": {},
   "outputs": [],
   "source": [
    "test = pd.read_csv(\"../data/raw/titanic/test.csv\") # dataset used by Kaggle to evaluate our model performance egal to everyone\n",
    "test.info()\n",
    "test.head()"
   ]
  },
  {
   "cell_type": "code",
   "execution_count": null,
   "id": "34a9878f-d5a7-4373-bc89-a21393c8a88f",
   "metadata": {},
   "outputs": [],
   "source": [
    "train[\"Sex\"].unique()"
   ]
  },
  {
   "cell_type": "code",
   "execution_count": null,
   "id": "1f3f9ec5-67c0-4d70-863a-e549b3300637",
   "metadata": {},
   "outputs": [],
   "source": [
    "train[\"Pclass\"].unique()"
   ]
  },
  {
   "cell_type": "code",
   "execution_count": null,
   "id": "76f1f949-1ddf-4c06-8775-9b1abe433f75",
   "metadata": {},
   "outputs": [],
   "source": [
    "train[\"Embarked\"].unique()"
   ]
  },
  {
   "cell_type": "code",
   "execution_count": null,
   "id": "d9ea0fd9-6d42-4a14-b718-d2adda235c93",
   "metadata": {},
   "outputs": [],
   "source": [
    "fig = px.histogram(train, x = \"Sex\", color = \"Survived\", barmode = \"group\", title = \"Proportions of men and women who survived and died\")\n",
    "fig.show()"
   ]
  },
  {
   "cell_type": "code",
   "execution_count": null,
   "id": "761c4314-4026-44ec-83d7-ffc04b1f1436",
   "metadata": {},
   "outputs": [],
   "source": [
    "fig = px.histogram(train, x = \"Sex\", color = \"Survived\", barmode = \"group\", facet_col = \"Pclass\",\n",
    "                  title = \"Proportions of men and women who survived and died according to their social class\")\n",
    "fig.show()"
   ]
  },
  {
   "cell_type": "code",
   "execution_count": null,
   "id": "2189a29e-0b5f-40e7-acdb-afda3872b590",
   "metadata": {},
   "outputs": [],
   "source": [
    "fig = px.histogram(train, x = \"Embarked\", color = \"Survived\", barmode = \"group\", facet_col = \"Pclass\",\n",
    "                  title = \"Proportions of people who survived and died according to the embarked place and their social class\")\n",
    "fig.show()"
   ]
  },
  {
   "cell_type": "code",
   "execution_count": null,
   "id": "10a1d789-19ea-4f17-ba00-46d873644636",
   "metadata": {},
   "outputs": [],
   "source": [
    "fig = px.histogram(train, x = \"Embarked\", color = \"Sex\", barmode = \"group\", facet_col = \"Pclass\",\n",
    "                  title=\"Repartition of men and women in different embarked places according to their social class\")\n",
    "fig.show()"
   ]
  },
  {
   "cell_type": "code",
   "execution_count": null,
   "id": "3ef4c0f4-9ef0-4f5e-b3dc-4ec6315fc286",
   "metadata": {},
   "outputs": [],
   "source": [
    "# Splitting the train dataset, to evaluate my model's performance\n",
    "# Good practice: splitting the earlier as possible, to avoid that data from dataset could be found in the test dataset\n",
    "# ex: filling missing data with mean of all data of the whole \"Age\" column: calculate the mean in the train dataset and report in\n",
    "# in the test one\n",
    "# ex: Embarked: missing values at 0 => to verify the impact on the dataset\n",
    "X_train, X_test = train_test_split(\n",
    "    train, test_size = 0.33, random_state = 42\n",
    ")"
   ]
  },
  {
   "cell_type": "code",
   "execution_count": null,
   "id": "6496a7fe-4b4b-4bca-9262-7d18f4cce124",
   "metadata": {},
   "outputs": [],
   "source": [
    "X_train"
   ]
  },
  {
   "cell_type": "code",
   "execution_count": null,
   "id": "91cfdea2-3c87-49ea-878b-a14e8507a747",
   "metadata": {},
   "outputs": [],
   "source": [
    "X_test"
   ]
  },
  {
   "cell_type": "code",
   "execution_count": null,
   "id": "9e51daf5-e591-4cbf-ae19-a1828a952231",
   "metadata": {},
   "outputs": [],
   "source": [
    "def apply_male_int(sex):\n",
    "    if sex == \"male\":\n",
    "        sex = 1\n",
    "    else:\n",
    "        sex = 0\n",
    "    return sex"
   ]
  },
  {
   "cell_type": "code",
   "execution_count": null,
   "id": "60c041a7-00a8-4ce7-9049-e97528059eb0",
   "metadata": {},
   "outputs": [],
   "source": [
    "X_train[\"male\"] = X_train[\"Sex\"].apply(apply_male_int)\n",
    "X_train.info()\n",
    "X_train.head()"
   ]
  },
  {
   "cell_type": "code",
   "execution_count": null,
   "id": "1cd271b3-fe6d-45d1-824c-f936fec2b5a9",
   "metadata": {},
   "outputs": [],
   "source": [
    "def apply_Pclass_int(Pclass):\n",
    "    if Pclass != 1:\n",
    "        Pclass = 0\n",
    "    return Pclass"
   ]
  },
  {
   "cell_type": "code",
   "execution_count": null,
   "id": "3fda88b1-6e52-45e8-9c49-cfd704827b19",
   "metadata": {},
   "outputs": [],
   "source": [
    "X_train[\"Pclass1\"] = X_train[\"Pclass\"].apply(apply_Pclass_int)\n",
    "X_train.info()\n",
    "X_train.head()"
   ]
  },
  {
   "cell_type": "code",
   "execution_count": null,
   "id": "e1515561-a114-40d2-91d3-92519f4ddabb",
   "metadata": {},
   "outputs": [],
   "source": [
    "def apply_Pclass(Pclass):\n",
    "    if Pclass != 2:\n",
    "        Pclass = 0\n",
    "    else:\n",
    "        Pclass = 1\n",
    "    return Pclass"
   ]
  },
  {
   "cell_type": "code",
   "execution_count": null,
   "id": "e7f246a9-cb45-4c21-b4c0-3c32079ba39d",
   "metadata": {},
   "outputs": [],
   "source": [
    "X_train[\"Pclass2\"] = X_train[\"Pclass\"].apply(apply_Pclass)\n",
    "X_train.info()\n",
    "X_train.head()"
   ]
  },
  {
   "cell_type": "code",
   "execution_count": null,
   "id": "eadd002d-9a4b-45f4-9593-6de8b65d8d97",
   "metadata": {},
   "outputs": [],
   "source": [
    "def apply_Pclass_last(Pclass):\n",
    "    if Pclass != 3:\n",
    "        Pclass = 0\n",
    "    else:\n",
    "        Pclass = 1\n",
    "    return Pclass"
   ]
  },
  {
   "cell_type": "code",
   "execution_count": null,
   "id": "7aabfb1b-62e9-49ca-bcc9-7a4f2f080733",
   "metadata": {},
   "outputs": [],
   "source": [
    "X_train[\"Pclass3\"] = X_train[\"Pclass\"].apply(apply_Pclass_last)\n",
    "X_train.info()\n",
    "X_train.head()"
   ]
  },
  {
   "cell_type": "code",
   "execution_count": null,
   "id": "dabdadc0-2257-4db6-bf53-538374529221",
   "metadata": {},
   "outputs": [],
   "source": [
    "# replacing NaN values by the mean of the column in Age one\n",
    "X_train[\"Age\"].unique()"
   ]
  },
  {
   "cell_type": "code",
   "execution_count": null,
   "id": "84fa3a51-f21b-4858-94ee-70619f1825ad",
   "metadata": {},
   "outputs": [],
   "source": [
    "mean_age = X_train[\"Age\"].mean()\n",
    "mean_age"
   ]
  },
  {
   "cell_type": "code",
   "execution_count": null,
   "id": "a7636970-05fe-41dd-958f-a5533fbeebab",
   "metadata": {},
   "outputs": [],
   "source": [
    "X_train[\"Age\"].fillna(mean_age, inplace = True)\n",
    "X_train.info()\n",
    "X_train.head()"
   ]
  },
  {
   "cell_type": "code",
   "execution_count": null,
   "id": "57b31b51-325a-4d72-b276-f5430164ac40",
   "metadata": {},
   "outputs": [],
   "source": [
    "def apply_embarked_S(embarked):\n",
    "    if embarked != \"S\":\n",
    "        embarked = 0\n",
    "    else:\n",
    "        embarked = 1\n",
    "    return embarked"
   ]
  },
  {
   "cell_type": "code",
   "execution_count": null,
   "id": "023ac825-9b67-4929-8ce5-712d73426700",
   "metadata": {},
   "outputs": [],
   "source": [
    "X_train[\"Embarked_S\"] = X_train[\"Embarked\"].apply(apply_embarked_S)\n",
    "X_train.info()\n",
    "X_train.head()"
   ]
  },
  {
   "cell_type": "code",
   "execution_count": null,
   "id": "8c76ce11-1e4a-4c19-820d-840adf04dac9",
   "metadata": {},
   "outputs": [],
   "source": [
    "def apply_embarked_Q(embarked):\n",
    "    if embarked != \"Q\":\n",
    "        embarked = 0\n",
    "    else:\n",
    "        embarked = 1\n",
    "    return embarked"
   ]
  },
  {
   "cell_type": "code",
   "execution_count": null,
   "id": "83aa3f04-dbbd-4d23-8b82-999b3c1fa78a",
   "metadata": {},
   "outputs": [],
   "source": [
    "X_train[\"Embarked_Q\"] = X_train[\"Embarked\"].apply(apply_embarked_Q)\n",
    "X_train.info()\n",
    "X_train.head()"
   ]
  },
  {
   "cell_type": "code",
   "execution_count": null,
   "id": "195ecb03-198e-4dce-b7ff-35bca3603dc5",
   "metadata": {},
   "outputs": [],
   "source": [
    "def apply_embarked_C(embarked):\n",
    "    if embarked != \"C\":\n",
    "        embarked = 0\n",
    "    else:\n",
    "        embarked = 1\n",
    "    return embarked"
   ]
  },
  {
   "cell_type": "code",
   "execution_count": null,
   "id": "ced4662d-9c7f-4598-8d6f-a9ffb9a029e1",
   "metadata": {},
   "outputs": [],
   "source": [
    "X_train[\"Embarked_C\"] = X_train[\"Embarked\"].apply(apply_embarked_C)\n",
    "X_train.info()\n",
    "X_train.head()"
   ]
  },
  {
   "cell_type": "code",
   "execution_count": null,
   "id": "4477fc07-fc2e-4e06-b7af-055159377fc3",
   "metadata": {},
   "outputs": [],
   "source": [
    "X_train = X_train.drop(columns = [\"Name\", \"Sex\", \"Ticket\", \"Cabin\", \"Embarked\"])\n",
    "X_train.info()\n",
    "X_train.head()"
   ]
  },
  {
   "cell_type": "code",
   "execution_count": null,
   "id": "549733a6-ddcc-4334-8561-a948f1441254",
   "metadata": {},
   "outputs": [],
   "source": [
    "# same transformations on the X_test dataset\n",
    "X_test[\"male\"] = X_test[\"Sex\"].apply(apply_male_int)\n",
    "X_test.info()\n",
    "X_test.head()"
   ]
  },
  {
   "cell_type": "code",
   "execution_count": null,
   "id": "c3fef38d-c86c-4390-8bf0-af340573dbb8",
   "metadata": {},
   "outputs": [],
   "source": [
    "X_test[\"Pclass1\"] = X_test[\"Pclass\"].apply(apply_Pclass_int)\n",
    "X_test.info()\n",
    "X_test.head()"
   ]
  },
  {
   "cell_type": "code",
   "execution_count": null,
   "id": "7f8c8c0a-6e74-4df5-ad08-f77b2c5735aa",
   "metadata": {},
   "outputs": [],
   "source": [
    "X_test[\"Pclass2\"] = X_test[\"Pclass\"].apply(apply_Pclass)\n",
    "X_test.info()\n",
    "X_test.head()"
   ]
  },
  {
   "cell_type": "code",
   "execution_count": null,
   "id": "338ff325-d16f-4c33-96fc-a063236f27b3",
   "metadata": {},
   "outputs": [],
   "source": [
    "X_test[\"Pclass3\"] = X_test[\"Pclass\"].apply(apply_Pclass_last)\n",
    "X_test.info()\n",
    "X_test.head()"
   ]
  },
  {
   "cell_type": "code",
   "execution_count": null,
   "id": "f93b256e-b4ce-4c19-ba96-c5b3b5864271",
   "metadata": {},
   "outputs": [],
   "source": [
    "X_test[\"Age\"].fillna(mean_age, inplace = True)\n",
    "X_test.info()\n",
    "X_test.head()"
   ]
  },
  {
   "cell_type": "code",
   "execution_count": null,
   "id": "84703442-0983-4d89-86d4-d09b11981bba",
   "metadata": {},
   "outputs": [],
   "source": [
    "X_test[\"Embarked_S\"] = X_test[\"Embarked\"].apply(apply_embarked_S)\n",
    "X_test.info()\n",
    "X_test.head()"
   ]
  },
  {
   "cell_type": "code",
   "execution_count": null,
   "id": "effb395f-1954-49d6-ae3f-618f4d724e77",
   "metadata": {},
   "outputs": [],
   "source": [
    "X_test[\"Embarked_Q\"] = X_test[\"Embarked\"].apply(apply_embarked_Q)\n",
    "X_test.info()\n",
    "X_test.head()"
   ]
  },
  {
   "cell_type": "code",
   "execution_count": null,
   "id": "7ec3379a-9532-4910-a863-4a6e8649207f",
   "metadata": {},
   "outputs": [],
   "source": [
    "X_test[\"Embarked_C\"] = X_test[\"Embarked\"].apply(apply_embarked_C)\n",
    "X_test.info()\n",
    "X_test.head()"
   ]
  },
  {
   "cell_type": "code",
   "execution_count": null,
   "id": "e6934663-28e8-496c-aeb1-d91975a73b71",
   "metadata": {},
   "outputs": [],
   "source": [
    "X_test = X_test.drop(columns = [\"Name\", \"Sex\", \"Ticket\", \"Cabin\", \"Embarked\"])\n",
    "X_test.info()\n",
    "X_test.head()"
   ]
  },
  {
   "cell_type": "code",
   "execution_count": null,
   "id": "d6f68f51-ed9d-47af-aa90-e8c6ff8dd93d",
   "metadata": {},
   "outputs": [],
   "source": [
    "# classification pb:\n",
    "\n",
    "# - logistic regression\n",
    "# - decision tree\n",
    "# - random forest\n",
    "# - support vector machine\n",
    "# - K Nearest Neighbour\n",
    "# - Naive Bayes\n",
    "\n",
    "# Start by decision tree\n",
    "clf = tree.DecisionTreeClassifier()\n",
    "clf = clf.fit(X_train, X_test)"
   ]
  },
  {
   "cell_type": "code",
   "execution_count": null,
   "id": "a41acf74-a691-4f11-b864-4aa8cd160699",
   "metadata": {},
   "outputs": [],
   "source": []
  }
 ],
 "metadata": {
  "kernelspec": {
   "display_name": "Python 3 (ipykernel)",
   "language": "python",
   "name": "python3"
  },
  "language_info": {
   "codemirror_mode": {
    "name": "ipython",
    "version": 3
   },
   "file_extension": ".py",
   "mimetype": "text/x-python",
   "name": "python",
   "nbconvert_exporter": "python",
   "pygments_lexer": "ipython3",
   "version": "3.12.1"
  }
 },
 "nbformat": 4,
 "nbformat_minor": 5
}
