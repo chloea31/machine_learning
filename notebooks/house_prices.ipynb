{
 "cells": [
  {
   "cell_type": "markdown",
   "id": "0eb8e356-4430-4e3b-980e-5ce38273904e",
   "metadata": {},
   "source": [
    "# Regression analysis\n",
    "\n",
    "## Principle of regression\n",
    "\n",
    "Supervised methods in ML includ classification (cf. titanic) and regression (cf. this exercise about house prices in Boston).\n",
    "\n",
    "Regression = set of statistical methods helping us to find relationships between variables (predictors = independent variables; outcomes = dependent variables).\n",
    "\n",
    "## Definition of the problem\n",
    "\n",
    "The main goal of this exercise is to predict the sale prices for each house (in Boston) based on the different features provided in the dataset.\n",
    "\n",
    "The data presented in this notebook come from the Kaggle website and report the features that we may want to consider for the exercise.\n",
    "\n",
    "## Problematic\n",
    "\n",
    "How to predict the sale prices for each house? Which would be the predicted prices for these houses?\n",
    "\n",
    "## Resolution approaches\n",
    "\n",
    "To answer this question, we will use regression (supervised ML method) as main method. In particular, we will test different regression methods from the documentation, especially sklearn.\n",
    "\n",
    "## Parameters\n",
    "\n",
    "## Import modules and load files"
   ]
  },
  {
   "cell_type": "code",
   "execution_count": null,
   "id": "5b9d81b7-1a71-4584-8ccb-4db8faa7f8a3",
   "metadata": {},
   "outputs": [],
   "source": []
  }
 ],
 "metadata": {
  "kernelspec": {
   "display_name": "Python 3 (ipykernel)",
   "language": "python",
   "name": "python3"
  },
  "language_info": {
   "codemirror_mode": {
    "name": "ipython",
    "version": 3
   },
   "file_extension": ".py",
   "mimetype": "text/x-python",
   "name": "python",
   "nbconvert_exporter": "python",
   "pygments_lexer": "ipython3",
   "version": "3.12.1"
  }
 },
 "nbformat": 4,
 "nbformat_minor": 5
}
