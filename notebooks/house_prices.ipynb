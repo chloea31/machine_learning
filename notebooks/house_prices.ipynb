{
 "cells": [
  {
   "cell_type": "markdown",
   "id": "0eb8e356-4430-4e3b-980e-5ce38273904e",
   "metadata": {},
   "source": [
    "# Regression analysis\n",
    "\n",
    "## Principle of regression\n",
    "\n",
    "Supervised methods in ML includ classification (cf. titanic) and regression (cf. this exercise about house prices in Boston).\n",
    "\n",
    "Regression = set of statistical methods helping us to find relationships between variables (predictors = covariates = features = independent variables; outcomes = response variables = dependent variables).\n",
    "\n",
    "Example: House prices proportional to the size of houses.\n",
    "\n",
    "## Definition of the problem\n",
    "\n",
    "The main goal of this exercise is to predict the sale prices for each house (in Boston) based on the different features provided in the dataset.\n",
    "\n",
    "The data presented in this notebook come from the Kaggle website and report the features that we may want to consider for the exercise.\n",
    "\n",
    "## Problematic\n",
    "\n",
    "How to predict the sale prices for each house? Which would be the predicted prices for these houses?\n",
    "\n",
    "## Resolution approaches\n",
    "\n",
    "Regression -> Test different regression methods (linear, lasso, ridge, polynomial).\n",
    "\n",
    "Metrics: RMSE\n",
    "\n",
    "=> Logs : the distribution of the sale prices of the houses is exponential.\n",
    "\n",
    "Exp(log) = linear\n",
    "\n",
    "Log(Exp) = linear\n",
    "\n",
    "=> Balancing the evaluation (otherwise, all sale prices of expensive houses would take the place of cheaper houses).\n",
    "\n",
    "## Parameters\n",
    "\n",
    "## Import modules and load files"
   ]
  },
  {
   "cell_type": "code",
   "execution_count": null,
   "id": "5b9d81b7-1a71-4584-8ccb-4db8faa7f8a3",
   "metadata": {},
   "outputs": [],
   "source": [
    "import numpy as np\n",
    "import pandas as pd\n",
    "import plotly.express as px\n",
    "\n",
    "from sklearn.model_selection import train_test_split\n",
    "\n",
    "# OneHotEncoder\n",
    "from sklearn.preprocessing import OneHotEncoder\n",
    "\n",
    "# Regression\n",
    "from sklearn.linear_model import LinearRegression\n",
    "\n",
    "from sklearn.metrics import mean_squared_error, root_mean_squared_error"
   ]
  },
  {
   "cell_type": "code",
   "execution_count": null,
   "id": "3af7b6c4-d2e9-4a5b-84ae-803630631750",
   "metadata": {},
   "outputs": [],
   "source": [
    "train = pd.read_csv(\"../data/raw/house_prices/train.csv\", sep = \",\", index_col=0) # ID n'a pas de valeur pour faire les prédictions\n",
    "train.info()\n",
    "train.head()"
   ]
  },
  {
   "cell_type": "code",
   "execution_count": null,
   "id": "ca5804fe-61df-4390-9155-7c0585817f2b",
   "metadata": {},
   "outputs": [],
   "source": [
    "test = pd.read_csv(\"../data/raw/house_prices/test.csv\", sep = \",\")\n",
    "test.info()\n",
    "test.head()"
   ]
  },
  {
   "cell_type": "code",
   "execution_count": null,
   "id": "9f5cd5bb-bc69-4957-8823-5ea14ec81b90",
   "metadata": {},
   "outputs": [],
   "source": [
    "sample = pd.read_csv(\"../data/raw/house_prices/sample_submission.csv\", sep = \",\")\n",
    "sample.info()\n",
    "sample.head()"
   ]
  },
  {
   "cell_type": "code",
   "execution_count": null,
   "id": "f5874871-945d-4af9-a01f-fd3f5c0206f5",
   "metadata": {},
   "outputs": [],
   "source": [
    "train[\"MSSubClass\"].unique()"
   ]
  },
  {
   "cell_type": "code",
   "execution_count": null,
   "id": "89a97f6c-fa8b-4491-ba5c-93c4788bf46f",
   "metadata": {},
   "outputs": [],
   "source": [
    "train[\"MSZoning\"].unique()"
   ]
  },
  {
   "cell_type": "code",
   "execution_count": null,
   "id": "fec80a56-4eb0-429e-ab75-2e4482a776cf",
   "metadata": {},
   "outputs": [],
   "source": [
    "train[\"LandContour\"].unique()"
   ]
  },
  {
   "cell_type": "code",
   "execution_count": null,
   "id": "4be083a3-71d4-4cf6-81ff-d289d6238546",
   "metadata": {
    "scrolled": true
   },
   "outputs": [],
   "source": [
    "for header in train.columns.values:\n",
    "    print(header)\n",
    "    print(\"Unique values:\", train[header].unique())\n",
    "    print(\"=============================\")"
   ]
  },
  {
   "cell_type": "markdown",
   "id": "2a6b3ddc-d56c-4946-bd76-59ef0947994e",
   "metadata": {},
   "source": [
    "| Variables | Natures of the variables | \n",
    "| :--------: | :--------------------: |\n",
    "| Id         | Numerical (quantitative) discrete |\n",
    "| MSSubClass | Numerical (quantitative) continuous |\n",
    "| MSZoning   | Categorical (qualitative)|\n",
    "| LotFrontage | Numerical (quantitative) continuous |\n",
    "| LotArea    | Numerical (quantitative) continuous |\n",
    "| Street     | Categorical (qualitative) |\n",
    "| Alley      | Categorical (qualitative) |\n",
    "| LotShape   | Categorical (qualitative) |\n",
    "| LandContour | Categorical (qualitative) |\n",
    "| Utilities | Categorical qualitative |\n",
    "| LotConfig | Categorical qualitative |\n",
    "| LandSlope | Categorical qualitative |\n",
    "| Neighborhood | Categorical qualitative |\n",
    "| Condition1 | Categorical qualitative |\n",
    "| Condition2 | Categorical qualitative |\n",
    "| BldgType | Categorical qualitative |\n",
    "| HouseStyle | Categorical qualitative |\n",
    "| OverallQual | Numerical (quantitative) discrete |\n",
    "| OverallCond | Numerical (quantitative) discrete |\n",
    "| YearBuilt | Categorical (qualitative) if discretisation after (old/new houses) / Numerical qualitative discrete (limit #columns for the model) |\n",
    "| YearRemodAdd | same |\n",
    "| RoofStyle | Categorical qualitative |\n",
    "| RoofMatl | Categorical qualitative |\n",
    "| Exterior1 | Categorical qualitative |\n",
    "| Exterior2nd | Categorical qualitative |\n",
    "| MasVnrType | Categorical qualitative |\n",
    "| MasVnrArea | Numerical quantitative continuous |\n",
    "| ExterQual | Categorical qualitative |\n",
    "| ExterCond | Categorical qualitative |\n",
    "| Foundation | Categorical qualitative |\n",
    "| BsmtQual | Categorical qualitative |\n",
    "| BsmtCond | Categorical qualitative |\n",
    "| BsmtExposure | Categorical qualitative |\n",
    "| BsmtFinType1 | Categorical qualitative |\n",
    "| BsmtFinSF1 | Numerical (qualitative) continuous |\n",
    "| BsmtFinType2 | Categorical qualitative |\n",
    "| BsmtFinSF2 | Numerical (qualitative) continuous |\n",
    "| BsmtUnfSF | Numerical (qualitative) continuous |\n",
    "| TotalBsmtSF | Numerical (qualitative) continuous |\n",
    "| Heating | Categorical qualitative |\n",
    "| HeatingQC | Categorical qualitative |\n",
    "| CentralAir | Categorical qualitative |\n",
    "| Electrical | Categorical qualitative |\n",
    "| 1stFlrSF | Numerical (quantitative) continuous |\n",
    "| 2ndFlrSF | Numerical (quantitative) continuous |\n",
    "| LowQualFinSF | Numerical (quantitative) continuous |\n",
    "| GrLivArea | Numerical (quantitative) continuous |\n",
    "| BsmtFullBath | Numerical (quantitative) discrete | \n",
    "| BsmtHalfBath | Numerical (quantitative) discrete |\n",
    "| FullBath | Numerical (quantitative) discrete |\n",
    "| HalfBath | Numerical (quantitative) discrete |\n",
    "| BedroomAbvGr | Numerical (quantitative) discrete |\n",
    "| KitchenAbvGr | Numerical (quantitative) discrete |\n",
    "| KitchenQual | Categorical (qualitative) |\n",
    "| TotRmsAbvGrd | Numerical (quantitative) discrete |\n",
    "| Functional | Categorical (qualitative) |\n",
    "| Fireplaces | Numerical (quantitative) discrete |\n",
    "| FireplaceQu | Categorical (qualitative) |\n",
    "| GarageType | Categorical (qualitative) |\n",
    "| GarageYrBlt | Categorical (qualitative) if discretisation after (old/new houses) / Numerical qualitative continuous (limit #columns for the model) |\n",
    "| GarageFinish | Categorical (qualitative) |\n",
    "| GarageCars | Numerical (quantitative) discrete |\n",
    "| GarageArea | Numerical (quantitative) continuous) |\n",
    "| GarageQual | Categorical (qualitative) |\n",
    "| GarageCond | Categorical (qualitative) |\n",
    "| PavedDrive | Categorical (qualitative) |\n",
    "| WoodDeckSF | Numerical (quantitative) continuous |\n",
    "| OpenPorchSF | Numerical (quantitative) discrete |\n",
    "| EnclosedPorch | Numerical (quantitative) discrete |\n",
    "| 3SsnPorch | Numerical (quantitative) continuous |\n",
    "| ScreenPorch | Numerical (quantitative) continuous |\n",
    "| PoolArea | Numerical (quantitative) continuous |\n",
    "| PoolQC | Categorical (qualitative) |\n",
    "| Fence | Categorical (qualitative) |\n",
    "| MiscFeature | Categorical (qualitative) |\n",
    "| MiscVal | Numerical (quantitative) continuous |\n",
    "| MoSold | Numerical (quantitative) continuous |\n",
    "| YrSold | Categorical (qualitative) if discretisation after (old/new houses) / Numerical qualitative continuous (limit #columns for the model) |\n",
    "| SaleType | Categorical (qualitative) |\n",
    "| SaleCondition | Categorical (qualitative) |\n",
    "| SalePrice | Numerical (quantitative) continuous |\n",
    "\n",
    "float: numerical quantitative continuous (warning: time); string: qualitative, categorical; int: difficult to determine (either one, either the other, or none of them) -> ID: none of them (for us, not the machine learning model) -> meta data (= data which give us information about the sample, data about data)\n",
    "\n",
    "Categorical variables: no order, fixed number of possible values (ex: a cat / a dog)\n",
    "\n",
    "If we exclude the years, we have 43 categorical variables"
   ]
  },
  {
   "cell_type": "code",
   "execution_count": null,
   "id": "37b59aad-0da8-4b07-b929-85f29b5232ca",
   "metadata": {},
   "outputs": [],
   "source": [
    "fig = px.box(train, x = \"MSSubClass\", y = \"SalePrice\", log_y = True, \n",
    "             title = \"Boxplot representing the house prices according to the SubClasses\")\n",
    "fig.show()"
   ]
  },
  {
   "cell_type": "code",
   "execution_count": null,
   "id": "b67b6012-0cb7-4ed3-b3f5-19b2263722d7",
   "metadata": {},
   "outputs": [],
   "source": [
    "fig = px.box(train, x = \"MSZoning\", y = \"SalePrice\", title = \"Impact of the MSZoning on the house prices\", log_y=True)\n",
    "fig.show()"
   ]
  },
  {
   "cell_type": "code",
   "execution_count": null,
   "id": "f88d49db-73c5-4c72-9ffc-8f953019dac7",
   "metadata": {},
   "outputs": [],
   "source": [
    "# LotFrontage and LotArea: continuous variables => Line plots or scatter plots\n",
    "fig = px.scatter(train, x = \"LotArea\", y = \"SalePrice\", color = \"Neighborhood\",\n",
    "                title = \"Impact of the lot area on house prices\")\n",
    "fig.show()"
   ]
  },
  {
   "cell_type": "code",
   "execution_count": null,
   "id": "a05f33b5-2e71-4311-b0b3-42af7477270f",
   "metadata": {},
   "outputs": [],
   "source": [
    "fig = px.box(train, x = \"Neighborhood\", y = \"SalePrice\", \n",
    "                title = \"Impact of the different parameters on house prices\")\n",
    "fig.show()"
   ]
  },
  {
   "cell_type": "markdown",
   "id": "6455019b-dfb6-4beb-abcd-310d1bd060d0",
   "metadata": {},
   "source": [
    "## Data preparation\n",
    "\n",
    "If categorical data => OneHotEncoder\n",
    "\n",
    "If numerical data => filling null data in (by fixed number, or the mean) => If mean: calculation from the TRAINING dataset"
   ]
  },
  {
   "cell_type": "code",
   "execution_count": null,
   "id": "17b05280-6528-4d7f-a955-903d7009567a",
   "metadata": {},
   "outputs": [],
   "source": [
    "# Separating the features and the target (SalePrice)\n",
    "X = train.drop(columns = [\"SalePrice\"])\n",
    "#[[\n",
    "#     \"MSSubClass\",\n",
    "#     \"MSZoning\",\n",
    "#     \"HouseStyle\",\n",
    "#     \"YearBuilt\",\n",
    "#     \"Heating\",\n",
    "#     \"Electrical\",\n",
    "#     \"BsmtFullBath\",\n",
    "#     \"FullBath\",\n",
    "#     \"BedroomAbvGr\",\n",
    "#     \"KitchenAbvGr\",\n",
    "#     \"KitchenQual\",\n",
    "#     \"GarageType\",\n",
    "#     \"GarageCars\",\n",
    "#     \"PavedDrive\",\n",
    "#     \"OpenPorchSF\",\n",
    "#     \"PoolQC\"\n",
    "# ]]\n",
    "#X.info()\n",
    "#X.head()\n",
    "\n",
    "y = train[\"SalePrice\"]\n",
    "y.info()\n",
    "y.head()"
   ]
  },
  {
   "cell_type": "code",
   "execution_count": null,
   "id": "a8ba2b61-1ca1-451d-93d8-fc4fb2b11d24",
   "metadata": {},
   "outputs": [],
   "source": [
    "# Splitting the train dataset, to evaluate the model's performance\n",
    "# Good practice: splitting the earlier as possible, to avoid that data from dataset could be found in the test dataset\n",
    "X_train, X_test, y_train, y_test = train_test_split(\n",
    "    X, y, test_size = 0.33, random_state = 42\n",
    ")\n",
    "\n",
    "# Random_state: generating random nb => algo generating pseudo-random nb (in info, all is deterministic). To add an external random notion, this algo \n",
    "# takes a seed to initialize the algo. \n",
    "# => For a given seed, we will always have the same generated random nb sequence.\n",
    "# Here, in this function, the random-state parameter is the seed (parameter of random nb)\n",
    "# => Here, we determine in advance which will be the repartition between the train and the test, ie the result that we have today is exactly the same\n",
    "# result as the one we obtained a few months ago.\n",
    "# => Reproducibility"
   ]
  },
  {
   "cell_type": "code",
   "execution_count": null,
   "id": "f2053a92-4f39-43b7-b525-fdd918bfb41f",
   "metadata": {},
   "outputs": [],
   "source": [
    "X_train.info()\n",
    "X_train.head()\n",
    "#X_test\n",
    "#y_train\n",
    "#y_test"
   ]
  },
  {
   "cell_type": "code",
   "execution_count": null,
   "id": "49b74f0e-3c87-452b-8bd4-d652e405ed3c",
   "metadata": {},
   "outputs": [],
   "source": [
    "# Filling missing values in\n",
    "X_train[\"LotFrontage\"] = X_train[\"LotFrontage\"].fillna(value = X_train[\"LotFrontage\"].mean())\n",
    "X_train[\"Alley\"] = X_train[\"Alley\"].fillna(value = \"unknown\")\n",
    "X_train[\"MasVnrType\"] = X_train[\"MasVnrType\"].fillna(value = \"unknown\")\n",
    "X_train[\"MasVnrArea\"] = X_train[\"MasVnrArea\"].fillna(value = X_train[\"MasVnrArea\"].mean())\n",
    "X_train[\"BsmtQual\"] = X_train[\"BsmtQual\"].fillna(value = \"unknown\")\n",
    "X_train[\"BsmtCond\"] = X_train[\"BsmtCond\"].fillna(value = \"unknown\")\n",
    "X_train[\"BsmtExposure\"] = X_train[\"BsmtExposure\"].fillna(value = \"unknown\")\n",
    "X_train[\"BsmtFinType1\"] = X_train[\"BsmtFinType1\"].fillna(value = \"unknown\")\n",
    "X_train[\"BsmtFinType2\"] = X_train[\"BsmtFinType2\"].fillna(value = \"unknown\")\n",
    "X_train[\"Electrical\"] = X_train[\"Electrical\"].fillna(value = \"unknown\")\n",
    "X_train[\"FireplaceQu\"] = X_train[\"FireplaceQu\"].fillna(value = \"unknown\")\n",
    "X_train[\"GarageType\"] = X_train[\"GarageType\"].fillna(value = \"unknown\")\n",
    "X_train[\"GarageYrBlt\"] = X_train[\"GarageYrBlt\"].fillna(value = X_train[\"GarageYrBlt\"].mean())\n",
    "X_train[\"GarageFinish\"] = X_train[\"GarageFinish\"].fillna(value = \"unknown\")\n",
    "X_train[\"GarageQual\"] = X_train[\"GarageQual\"].fillna(value = \"unknown\")\n",
    "X_train[\"GarageCond\"] = X_train[\"GarageCond\"].fillna(value = \"unknown\")\n",
    "X_train[\"PoolQC\"] = X_train[\"PoolQC\"].fillna(value = \"unknown\")\n",
    "X_train[\"Fence\"] = X_train[\"Fence\"].fillna(value = \"unknown\")\n",
    "X_train[\"MiscFeature\"] = X_train[\"MiscFeature\"].fillna(value = \"unknown\")\n",
    "X_train.info()\n",
    "X_train.head()"
   ]
  },
  {
   "cell_type": "code",
   "execution_count": null,
   "id": "01969d19-4825-44f1-a739-97e69640125a",
   "metadata": {},
   "outputs": [],
   "source": [
    "# OneHotEncoder on X_train\n",
    "\n",
    "# Limit to categorical data using df.select_dtypes() => onehotencoder creates one column by possible value\n",
    "X_enc = X_train.select_dtypes(include=[object]) # X_enc = subset of categorical variables; object: probably str (to which a numerical value is assigned)\n",
    "#X_enc.info() # => 43 categorical variables = > ok\n",
    "#X_enc.head()\n",
    "\n",
    "# Creating instance of one-hot-encoder\n",
    "enc = OneHotEncoder(handle_unknown = \"infrequent_if_exist\", min_frequency = 10) # handle_unknown: column in which a category is never represented \n",
    "# (ex if a category is only represented in the test dataset), \n",
    "# put \"error\" as far as we can\n",
    "#enc\n",
    "\n",
    "# Apply one-hot encoding to the categorical columns\n",
    "enc = enc.fit(X_enc) # looks at each column and determine unique values for each column: calculates all possible values for each categorical values\n",
    "#enc.categories_ # double table: 1st element = list of possible values in the 1st column \n",
    "# (respects the order of the columns, order of the columns in X_enc)\n",
    "\n",
    "# Transform on X_enc\n",
    "X_enc_transfo = enc.transform(X_enc).toarray()\n",
    "enc.get_feature_names_out()\n",
    "\n",
    "# Building the dataframe\n",
    "df_enc = pd.DataFrame(X_enc_transfo, columns = enc.get_feature_names_out(), index = X_enc.index, dtype=int)\n",
    "#df_enc.info()\n",
    "#df_enc.head(5)\n",
    "\n",
    "# Deleting the columns containing categorical values in X_train and merging the 2 dataframes (X_train + df_enc) on IDs\n",
    "X_train_drop = X_train.drop(columns = X_enc.columns)\n",
    "#X_train.info()\n",
    "#X_train.head()\n",
    "X_train = X_train_drop.merge(df_enc, how = \"left\", left_index = True, right_index = True)\n",
    "X_train.info()\n",
    "X_train.head(5)"
   ]
  },
  {
   "cell_type": "code",
   "execution_count": null,
   "id": "414b2b07-2cee-4f35-8e54-2c70ec96c61e",
   "metadata": {},
   "outputs": [],
   "source": [
    "X_enc_transfo.shape"
   ]
  },
  {
   "cell_type": "code",
   "execution_count": null,
   "id": "d25df640-6db8-4c2d-a652-c866462e71ff",
   "metadata": {},
   "outputs": [],
   "source": [
    "enc.get_feature_names_out().shape"
   ]
  },
  {
   "cell_type": "code",
   "execution_count": null,
   "id": "80a1a194-0e04-44a5-99fc-540a4e39427b",
   "metadata": {},
   "outputs": [],
   "source": [
    "X_enc.shape"
   ]
  },
  {
   "cell_type": "code",
   "execution_count": null,
   "id": "44b075f1-f365-41d6-a141-2b6b9aa3d9ba",
   "metadata": {},
   "outputs": [],
   "source": [
    "# Doing the same data preprocessing for the test dataset X_test: do the fillna() and onehotencoder\n",
    "# fitting the model on the data => adjusting the model on our data  \n",
    "\n",
    "# Filling missing values in => WARNING: SAME mean as X_train\n",
    "X_test[\"LotFrontage\"] = X_test[\"LotFrontage\"].fillna(value = X_train[\"LotFrontage\"].mean())\n",
    "X_test[\"Alley\"] = X_test[\"Alley\"].fillna(value = \"unknown\")\n",
    "X_test[\"MasVnrType\"] = X_test[\"MasVnrType\"].fillna(value = \"unknown\")\n",
    "X_test[\"MasVnrArea\"] = X_test[\"MasVnrArea\"].fillna(value = X_train[\"MasVnrArea\"].mean())\n",
    "X_test[\"BsmtQual\"] = X_test[\"BsmtQual\"].fillna(value = \"unknown\")\n",
    "X_test[\"BsmtCond\"] = X_test[\"BsmtCond\"].fillna(value = \"unknown\")\n",
    "X_test[\"BsmtExposure\"] = X_test[\"BsmtExposure\"].fillna(value = \"unknown\")\n",
    "X_test[\"BsmtFinType1\"] = X_test[\"BsmtFinType1\"].fillna(value = \"unknown\")\n",
    "X_test[\"BsmtFinType2\"] = X_test[\"BsmtFinType2\"].fillna(value = \"unknown\")\n",
    "X_test[\"Electrical\"] = X_test[\"Electrical\"].fillna(value = \"unknown\")\n",
    "X_test[\"FireplaceQu\"] = X_test[\"FireplaceQu\"].fillna(value = \"unknown\")\n",
    "X_test[\"GarageType\"] = X_test[\"GarageType\"].fillna(value = \"unknown\")\n",
    "X_test[\"GarageYrBlt\"] = X_test[\"GarageYrBlt\"].fillna(value = X_train[\"GarageYrBlt\"].mean())\n",
    "X_test[\"GarageFinish\"] = X_test[\"GarageFinish\"].fillna(value = \"unknown\")\n",
    "X_test[\"GarageQual\"] = X_test[\"GarageQual\"].fillna(value = \"unknown\")\n",
    "X_test[\"GarageCond\"] = X_test[\"GarageCond\"].fillna(value = \"unknown\")\n",
    "X_test[\"PoolQC\"] = X_test[\"PoolQC\"].fillna(value = \"unknown\")\n",
    "X_test[\"Fence\"] = X_test[\"Fence\"].fillna(value = \"unknown\")\n",
    "X_test[\"MiscFeature\"] = X_test[\"MiscFeature\"].fillna(value = \"unknown\")\n",
    "X_test.info()\n",
    "X_test.head()"
   ]
  },
  {
   "cell_type": "code",
   "execution_count": null,
   "id": "cff5cc87-ada0-41b6-a2ca-30d532eb2bcb",
   "metadata": {},
   "outputs": [],
   "source": [
    "# OneHotEncoder on X_test\n",
    "\n",
    "# Limit to categorical data using df.select_dtypes() => onehotencoder creates one column by possible value\n",
    "X_enc = X_test.select_dtypes(include=[object]) # X_enc = subset of categorical variables; object: probably str (to which a numerical value is assigned)\n",
    "#X_enc.info() # => 43 categorical variables = > ok (initial categorical columns)\n",
    "#X_enc.head()\n",
    "\n",
    "# Creating instance of one-hot-encoder: this object contains all values of each categorie to be able to convert the categories in the appropriated \n",
    "# column (1 value = 1 column) -> calculated from what we already know \n",
    "#enc = OneHotEncoder() # handle_unknown: column in which a category is never represented (ex if a category is only represented in the test dataset), \n",
    "# put \"error\" as far as we can\n",
    "#enc\n",
    "\n",
    "# Apply one-hot encoding to the categorical columns: WARNING: All fits are done on X_train\n",
    "#enc = enc.fit(X_enc) # looks at each column and determine unique values for each column: calculates all possible values for each categorical values\n",
    "#enc.categories_ # double table: 1st element = list of possible values in the 1st column \n",
    "# (respects the order of the columns, order of the columns in X_enc)\n",
    "\n",
    "# Transform on X_enc: Transform each categorical value in boolean column (0 or 1)\n",
    "X_enc_transfo = enc.transform(X_enc).toarray()\n",
    "enc.get_feature_names_out()\n",
    "\n",
    "# Building the dataframe\n",
    "df_enc = pd.DataFrame(X_enc_transfo, columns = enc.get_feature_names_out(), index = X_enc.index, dtype=int)\n",
    "#df_enc.info()\n",
    "#df_enc.head(5)\n",
    "\n",
    "# Deleting the columns containing categorical values in X_train and merging the 2 dataframes (X_train + df_enc) on IDs\n",
    "# (replacing categorical values by encoded ones)\n",
    "X_test_drop = X_test.drop(columns = X_enc.columns)\n",
    "#X_test.info()\n",
    "#X_test.head()\n",
    "X_test = X_test_drop.merge(df_enc, how = \"left\", left_index = True, right_index = True)\n",
    "X_test.info()\n",
    "X_test.head(5)"
   ]
  },
  {
   "cell_type": "code",
   "execution_count": null,
   "id": "d0a717be-ca11-4a9a-bc1a-461ed7175d8c",
   "metadata": {},
   "outputs": [],
   "source": [
    "df_enc.head(5)\n",
    "#X_enc.info()"
   ]
  },
  {
   "cell_type": "code",
   "execution_count": null,
   "id": "846e5156-b235-499d-8b7f-89505d7c968e",
   "metadata": {},
   "outputs": [],
   "source": [
    "X_enc.head(5)"
   ]
  },
  {
   "cell_type": "markdown",
   "id": "bed0d4d2-db94-4838-a73c-6596e3945939",
   "metadata": {},
   "source": [
    "## Regression"
   ]
  },
  {
   "cell_type": "code",
   "execution_count": null,
   "id": "88700621-cf86-4475-9ad5-29f4b01285c6",
   "metadata": {},
   "outputs": [],
   "source": [
    "reg = LinearRegression().fit(X_train, y_train)\n",
    "print(\"==========================\")\n",
    "score_train = reg.score(X_train, y_train)\n",
    "print(f\"score train: {score_train}\")\n",
    "score_test = reg.score(X_test, y_test)\n",
    "print(f\"score test: {score_test}\")"
   ]
  },
  {
   "cell_type": "code",
   "execution_count": null,
   "id": "7fb5b86b-0147-4ae0-aa34-110c58ab7ff3",
   "metadata": {},
   "outputs": [],
   "source": [
    "y_pred = reg.predict(X_test)\n",
    "y_pred # price (in $ or €)"
   ]
  },
  {
   "cell_type": "code",
   "execution_count": null,
   "id": "778562e3-74c0-481a-891c-5b0ee2d98e8e",
   "metadata": {},
   "outputs": [],
   "source": [
    "# Evaluating the deviation between y_pred and _test - metrics:\n",
    "# - RMSE\n",
    "# - R^2\n",
    "root_mean_squared_error(y_test, y_pred)"
   ]
  },
  {
   "cell_type": "code",
   "execution_count": null,
   "id": "b2453c1b-74a8-4328-b43a-866b32bb3629",
   "metadata": {},
   "outputs": [],
   "source": []
  }
 ],
 "metadata": {
  "kernelspec": {
   "display_name": "Python 3 (ipykernel)",
   "language": "python",
   "name": "python3"
  },
  "language_info": {
   "codemirror_mode": {
    "name": "ipython",
    "version": 3
   },
   "file_extension": ".py",
   "mimetype": "text/x-python",
   "name": "python",
   "nbconvert_exporter": "python",
   "pygments_lexer": "ipython3",
   "version": "3.12.1"
  }
 },
 "nbformat": 4,
 "nbformat_minor": 5
}
