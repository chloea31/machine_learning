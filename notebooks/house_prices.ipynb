{
 "cells": [
  {
   "cell_type": "markdown",
   "id": "0eb8e356-4430-4e3b-980e-5ce38273904e",
   "metadata": {},
   "source": [
    "# Regression analysis\n",
    "\n",
    "## Principle of regression\n",
    "\n",
    "Supervised methods in ML includ classification (cf. titanic) and regression (cf. this exercise about house prices in Boston).\n",
    "\n",
    "Regression = set of statistical methods helping us to find relationships between variables.\n",
    "\n",
    "## "
   ]
  }
 ],
 "metadata": {
  "kernelspec": {
   "display_name": "Python 3 (ipykernel)",
   "language": "python",
   "name": "python3"
  },
  "language_info": {
   "codemirror_mode": {
    "name": "ipython",
    "version": 3
   },
   "file_extension": ".py",
   "mimetype": "text/x-python",
   "name": "python",
   "nbconvert_exporter": "python",
   "pygments_lexer": "ipython3",
   "version": "3.12.1"
  }
 },
 "nbformat": 4,
 "nbformat_minor": 5
}
